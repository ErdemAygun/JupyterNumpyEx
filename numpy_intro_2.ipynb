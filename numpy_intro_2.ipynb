{
 "cells": [
  {
   "cell_type": "code",
   "execution_count": 2,
   "id": "1de2850a",
   "metadata": {},
   "outputs": [],
   "source": [
    "import numpy as np"
   ]
  },
  {
   "cell_type": "code",
   "execution_count": 7,
   "id": "36690852",
   "metadata": {},
   "outputs": [
    {
     "data": {
      "text/plain": [
       "array([1. , 1.5, 2. , 2.5, 3. , 3.5, 4. , 4.5, 5. , 5.5, 6. , 6.5, 7. ,\n",
       "       7.5, 8. , 8.5, 9. , 9.5])"
      ]
     },
     "execution_count": 7,
     "metadata": {},
     "output_type": "execute_result"
    }
   ],
   "source": [
    "x = np.arange(1, 10, 0.5)\n",
    "x"
   ]
  },
  {
   "cell_type": "markdown",
   "id": "53642f05",
   "metadata": {},
   "source": [
    "## Reshaping"
   ]
  },
  {
   "cell_type": "code",
   "execution_count": 8,
   "id": "62bc097c",
   "metadata": {},
   "outputs": [
    {
     "data": {
      "text/plain": [
       "(18,)"
      ]
     },
     "execution_count": 8,
     "metadata": {},
     "output_type": "execute_result"
    }
   ],
   "source": [
    "x.shape"
   ]
  },
  {
   "cell_type": "code",
   "execution_count": 11,
   "id": "eee09af1",
   "metadata": {},
   "outputs": [
    {
     "data": {
      "text/plain": [
       "array([[1. , 1.5],\n",
       "       [2. , 2.5],\n",
       "       [3. , 3.5],\n",
       "       [4. , 4.5],\n",
       "       [5. , 5.5],\n",
       "       [6. , 6.5],\n",
       "       [7. , 7.5],\n",
       "       [8. , 8.5],\n",
       "       [9. , 9.5]])"
      ]
     },
     "execution_count": 11,
     "metadata": {},
     "output_type": "execute_result"
    }
   ],
   "source": [
    "x.reshape((9, 2))"
   ]
  },
  {
   "cell_type": "markdown",
   "id": "cfc0adbd",
   "metadata": {},
   "source": [
    "### 1. Create a 5x5 array of squares of numbers from 1 to 25"
   ]
  },
  {
   "cell_type": "code",
   "execution_count": 14,
   "id": "d33bd4bd",
   "metadata": {},
   "outputs": [
    {
     "data": {
      "text/plain": [
       "array([[  1,   4,   9,  16,  25],\n",
       "       [ 36,  49,  64,  81, 100],\n",
       "       [121, 144, 169, 196, 225],\n",
       "       [256, 289, 324, 361, 400],\n",
       "       [441, 484, 529, 576, 625]])"
      ]
     },
     "execution_count": 14,
     "metadata": {},
     "output_type": "execute_result"
    }
   ],
   "source": [
    "np.arange(1, 26).reshape((5, 5)) ** 2"
   ]
  },
  {
   "cell_type": "markdown",
   "id": "cfc9bd58",
   "metadata": {},
   "source": [
    "## Slicing"
   ]
  },
  {
   "cell_type": "code",
   "execution_count": 17,
   "id": "6d6cfa3b",
   "metadata": {},
   "outputs": [
    {
     "data": {
      "text/plain": [
       "array([ 1,  2,  3,  4,  5,  6,  7,  8,  9, 10])"
      ]
     },
     "execution_count": 17,
     "metadata": {},
     "output_type": "execute_result"
    }
   ],
   "source": [
    "a = np.arange(1, 11)\n",
    "a"
   ]
  },
  {
   "cell_type": "code",
   "execution_count": 30,
   "id": "d280cdaa",
   "metadata": {},
   "outputs": [
    {
     "data": {
      "text/plain": [
       "array([  1,   2, 103,  40, 105, 106,   7,   8,   9,  10])"
      ]
     },
     "execution_count": 30,
     "metadata": {},
     "output_type": "execute_result"
    }
   ],
   "source": [
    "a[3] = 40\n",
    "a"
   ]
  },
  {
   "cell_type": "code",
   "execution_count": 21,
   "id": "d900e23a",
   "metadata": {},
   "outputs": [],
   "source": [
    "a[2:6] += 100  # modyfiying a slice of numpy's array will also modify the values in original array (unlike `list` in python)"
   ]
  },
  {
   "cell_type": "code",
   "execution_count": 22,
   "id": "1d2f94f8",
   "metadata": {},
   "outputs": [
    {
     "data": {
      "text/plain": [
       "array([  1,   2, 103, 140, 105, 106,   7,   8,   9,  10])"
      ]
     },
     "execution_count": 22,
     "metadata": {},
     "output_type": "execute_result"
    }
   ],
   "source": [
    "a"
   ]
  },
  {
   "cell_type": "code",
   "execution_count": 31,
   "id": "d26aeab8",
   "metadata": {},
   "outputs": [
    {
     "name": "stdout",
     "output_type": "stream",
     "text": [
      "[1, 2, 3, 4, 5, 6, 7, 8, 9, 10]\n",
      "[3, 4, 105, 6]\n",
      "[1, 2, 3, 4, 5, 6, 7, 8, 9, 10]\n"
     ]
    }
   ],
   "source": [
    "python_list = list(range(1, 11))\n",
    "print(python_list)\n",
    "copy = python_list[2:6]\n",
    "copy[2] += 100\n",
    "print(copy)\n",
    "print(python_list)"
   ]
  },
  {
   "cell_type": "code",
   "execution_count": 37,
   "id": "3ee196a7",
   "metadata": {},
   "outputs": [
    {
     "data": {
      "text/plain": [
       "array([[ 1,  2,  3,  4],\n",
       "       [ 5,  6,  7,  8],\n",
       "       [ 9, 10, 11, 12],\n",
       "       [13, 14, 15, 16],\n",
       "       [17, 18, 19, 20]])"
      ]
     },
     "execution_count": 37,
     "metadata": {},
     "output_type": "execute_result"
    }
   ],
   "source": [
    "a = np.arange(1, 21)\n",
    "b = a.reshape((5, 4))\n",
    "b\n"
   ]
  },
  {
   "cell_type": "code",
   "execution_count": 38,
   "id": "1dedfcae",
   "metadata": {},
   "outputs": [
    {
     "data": {
      "text/plain": [
       "5"
      ]
     },
     "execution_count": 38,
     "metadata": {},
     "output_type": "execute_result"
    }
   ],
   "source": [
    "b[1][0]"
   ]
  },
  {
   "cell_type": "code",
   "execution_count": 40,
   "id": "2ccf6eca",
   "metadata": {},
   "outputs": [
    {
     "data": {
      "text/plain": [
       "array([[ 5,  6],\n",
       "       [ 9, 10]])"
      ]
     },
     "execution_count": 40,
     "metadata": {},
     "output_type": "execute_result"
    }
   ],
   "source": [
    "b[1:3, :2]"
   ]
  },
  {
   "cell_type": "markdown",
   "id": "80196828",
   "metadata": {},
   "source": [
    "### 2. Create a 4x6 array that will have 1s on the border and 0s everywhere else"
   ]
  },
  {
   "cell_type": "code",
   "execution_count": 51,
   "id": "34df6c3e",
   "metadata": {},
   "outputs": [
    {
     "data": {
      "text/plain": [
       "array([[1., 1., 1., 1.],\n",
       "       [1., 0., 0., 0.],\n",
       "       [1., 0., 0., 0.],\n",
       "       [1., 0., 0., 0.],\n",
       "       [1., 0., 0., 0.],\n",
       "       [1., 0., 0., 0.]])"
      ]
     },
     "execution_count": 51,
     "metadata": {},
     "output_type": "execute_result"
    }
   ],
   "source": [
    "x = np.ones((4, 6))\n",
    "x[1:-1, 1:-1] = 0\n",
    "x\n",
    "\n",
    "x = np.zeros((6,4))\n",
    "x[0] = 1\n",
    "x[:, 0] = 1\n",
    "x\n"
   ]
  },
  {
   "cell_type": "code",
   "execution_count": 52,
   "id": "34517e43",
   "metadata": {},
   "outputs": [
    {
     "data": {
      "text/plain": [
       "array([[1., 1., 1., 1., 1.],\n",
       "       [0., 0., 0., 0., 0.],\n",
       "       [1., 1., 1., 1., 1.],\n",
       "       [0., 0., 0., 0., 0.],\n",
       "       [1., 1., 1., 1., 1.]])"
      ]
     },
     "execution_count": 52,
     "metadata": {},
     "output_type": "execute_result"
    }
   ],
   "source": [
    "x = np.zeros((5,5))\n",
    "x[::2] = 1\n",
    "x"
   ]
  },
  {
   "cell_type": "code",
   "execution_count": 60,
   "id": "c9c84127",
   "metadata": {},
   "outputs": [
    {
     "name": "stdout",
     "output_type": "stream",
     "text": [
      "[[ 1  2  3  4]\n",
      " [ 5  6  7  8]\n",
      " [ 9 10 11 12]\n",
      " [13 14 15 16]\n",
      " [17 18 19 20]]\n",
      "[[ True  True  True  True]\n",
      " [ True  True  True  True]\n",
      " [ True False False False]\n",
      " [False False False False]\n",
      " [False False False False]]\n",
      "[1 2 3 4 5 6 7 8 9]\n"
     ]
    },
    {
     "data": {
      "text/plain": [
       "array([[101, 102, 103, 104],\n",
       "       [105, 106, 107, 108],\n",
       "       [109,  10,  11,  12],\n",
       "       [ 13,  14,  15,  16],\n",
       "       [ 17,  18,  19,  20]])"
      ]
     },
     "execution_count": 60,
     "metadata": {},
     "output_type": "execute_result"
    }
   ],
   "source": [
    "x = np.arange(1, 21).reshape((5,4))\n",
    "print(x)\n",
    "print(x < 10)\n",
    "print(x[x < 10])\n",
    "x[x < 10] += 100\n",
    "x"
   ]
  },
  {
   "cell_type": "code",
   "execution_count": 64,
   "id": "2bb77c62",
   "metadata": {},
   "outputs": [
    {
     "data": {
      "text/plain": [
       "array([[101,   0, 103, 104],\n",
       "       [  0, 106, 107,   0],\n",
       "       [109,  10,  11,   0],\n",
       "       [ 13,  14,   0,  16],\n",
       "       [ 17,   0,  19,  20]])"
      ]
     },
     "execution_count": 64,
     "metadata": {},
     "output_type": "execute_result"
    }
   ],
   "source": [
    "x[x % 3 == 0] = 0\n",
    "x"
   ]
  },
  {
   "cell_type": "markdown",
   "id": "a3a595e5",
   "metadata": {},
   "source": [
    "## Random numbers"
   ]
  },
  {
   "cell_type": "code",
   "execution_count": 69,
   "id": "cafd2429",
   "metadata": {},
   "outputs": [
    {
     "data": {
      "text/plain": [
       "array([11, 22, 33])"
      ]
     },
     "execution_count": 69,
     "metadata": {},
     "output_type": "execute_result"
    }
   ],
   "source": [
    "np.array([10, 20, 30]) + np.array([1, 2, 3])\n",
    "# two arrays of the same shape can be added together (other operations work too) "
   ]
  },
  {
   "cell_type": "code",
   "execution_count": 65,
   "id": "0c74513c",
   "metadata": {},
   "outputs": [
    {
     "data": {
      "text/plain": [
       "array([[7, 2, 8, 7, 4, 2, 4, 6, 9, 2],\n",
       "       [8, 4, 1, 1, 1, 8, 8, 5, 2, 6],\n",
       "       [2, 5, 6, 1, 4, 5, 2, 6, 4, 7],\n",
       "       [6, 3, 7, 5, 5, 8, 1, 6, 8, 1],\n",
       "       [4, 2, 2, 9, 9, 7, 6, 5, 4, 9],\n",
       "       [6, 6, 3, 6, 1, 2, 5, 4, 1, 7],\n",
       "       [6, 8, 9, 7, 2, 2, 5, 3, 5, 2],\n",
       "       [5, 8, 4, 4, 2, 5, 5, 6, 7, 3],\n",
       "       [2, 7, 9, 6, 3, 4, 2, 7, 2, 6],\n",
       "       [4, 2, 4, 2, 1, 9, 9, 6, 3, 5]])"
      ]
     },
     "execution_count": 65,
     "metadata": {},
     "output_type": "execute_result"
    }
   ],
   "source": [
    "np.random.randint(1, 10, size=(10, 10))"
   ]
  },
  {
   "cell_type": "markdown",
   "id": "0803c54d",
   "metadata": {},
   "source": [
    "### 3. Create a 100-element array containing the results of 2-dice rolls (2d6 - roll 2 6-sided dice and add the result)"
   ]
  },
  {
   "cell_type": "code",
   "execution_count": 79,
   "id": "13723962",
   "metadata": {},
   "outputs": [
    {
     "data": {
      "text/plain": [
       "array([[ 5,  7,  9,  5,  8,  5,  9,  8,  4,  8],\n",
       "       [ 5,  7,  6,  8,  5,  7, 11,  6, 12,  8],\n",
       "       [ 7,  8,  6,  4,  6,  4,  9,  8,  6, 11],\n",
       "       [ 7, 10,  7,  3,  9,  5,  9,  9,  7,  6],\n",
       "       [ 6,  5,  3,  8,  7,  3,  8,  8,  6, 12],\n",
       "       [ 4,  4,  2,  6,  9,  9,  2,  5,  7,  5],\n",
       "       [ 6,  7,  4,  3,  7,  2,  5,  4,  5,  4],\n",
       "       [ 6,  4,  5,  2,  9,  8,  7,  9,  5,  4],\n",
       "       [ 6, 10,  6,  3,  5,  3,  7, 10,  9,  6],\n",
       "       [12,  6, 11,  6, 11,  9,  8,  7,  8,  8]])"
      ]
     },
     "execution_count": 79,
     "metadata": {},
     "output_type": "execute_result"
    }
   ],
   "source": [
    "a = np.random.randint(1, 7, size=(10, 10))\n",
    "b = np.random.randint(1, 7, size=(10, 10))\n",
    "a + b"
   ]
  },
  {
   "cell_type": "markdown",
   "id": "b1cae096",
   "metadata": {},
   "source": [
    "### 4. Calculate how many times each result appeared in previous task"
   ]
  },
  {
   "cell_type": "code",
   "execution_count": 80,
   "id": "15a62e03",
   "metadata": {},
   "outputs": [
    {
     "data": {
      "text/plain": [
       "(array([ 2,  3,  4,  5,  6,  7,  8,  9, 10, 11, 12]),\n",
       " array([ 4,  6, 10, 14, 16, 14, 14, 12,  3,  4,  3], dtype=int64))"
      ]
     },
     "execution_count": 80,
     "metadata": {},
     "output_type": "execute_result"
    }
   ],
   "source": [
    "np.unique(a + b, return_counts=True)"
   ]
  },
  {
   "cell_type": "markdown",
   "id": "e98e39d6",
   "metadata": {},
   "source": [
    "## Broadcasting"
   ]
  },
  {
   "cell_type": "markdown",
   "id": "0c389cdc",
   "metadata": {},
   "source": [
    "1. Operations are possible on 2 arrays of the same shape (e.g. we can add two 3x2 arrays)\n",
    "2. If the shapes are different then broadcasting mechanism checks if they are compatible:\n",
    "    - if the arrays have different number of dimensions then the array with less dimensions will get more of them by prepending 1s to its shape\n",
    "    - the arrays have compatible shapes if numbers on corresponding positions are the same or one of them is equal to 1."
   ]
  },
  {
   "cell_type": "code",
   "execution_count": null,
   "id": "7c3e181b",
   "metadata": {},
   "outputs": [],
   "source": [
    "# (3, 2)\n",
    "# (1, 2)\n",
    "\n",
    "# [10, 20] - shape: (2,)\n",
    "# [[10, 20]] - shape: (1, 2)\n",
    "# [[10],\n",
    "#  [20]] - shape: (2, 1)\n",
    "\n",
    "    \n",
    "# [[1 2]\n",
    "#  [3 4]\n",
    "#  [5 6]]\n",
    "# +\n",
    "# [[10, 10],\n",
    "#  [20, 20],\n",
    "#  [30, 30]]\n",
    "\n",
    "# (3, 2) +\n",
    "# (3, 1) - compatible\n",
    "\n",
    "# (3,6,4,1,7) +\n",
    "# (1,1,1,3,6) - not compatible"
   ]
  },
  {
   "cell_type": "code",
   "execution_count": 89,
   "id": "72ec41f3",
   "metadata": {},
   "outputs": [
    {
     "name": "stdout",
     "output_type": "stream",
     "text": [
      "[[1 2]\n",
      " [3 4]\n",
      " [5 6]]\n",
      "[[10 11]\n",
      " [12 13]\n",
      " [14 15]]\n"
     ]
    },
    {
     "data": {
      "text/plain": [
       "array([[11, 12],\n",
       "       [23, 24],\n",
       "       [35, 36]])"
      ]
     },
     "execution_count": 89,
     "metadata": {},
     "output_type": "execute_result"
    }
   ],
   "source": [
    "a = np.arange(1, 7).reshape((3, 2))\n",
    "print(a)\n",
    "b = np.arange(10, 16).reshape((3, 2))\n",
    "print(b)\n",
    "a + np.array([10, 20])\n",
    "a + np.array([[10],\n",
    "              [20],\n",
    "              [30]])"
   ]
  },
  {
   "cell_type": "markdown",
   "id": "372c6dda",
   "metadata": {},
   "source": [
    "### 5. Create a 10x10 multiplication table (for numbers 1-10) using broadcasting mechanism\n"
   ]
  },
  {
   "cell_type": "code",
   "execution_count": 93,
   "id": "a251c2ef",
   "metadata": {},
   "outputs": [
    {
     "data": {
      "text/plain": [
       "array([[  1,   2,   3,   4,   5,   6,   7,   8,   9,  10],\n",
       "       [  2,   4,   6,   8,  10,  12,  14,  16,  18,  20],\n",
       "       [  3,   6,   9,  12,  15,  18,  21,  24,  27,  30],\n",
       "       [  4,   8,  12,  16,  20,  24,  28,  32,  36,  40],\n",
       "       [  5,  10,  15,  20,  25,  30,  35,  40,  45,  50],\n",
       "       [  6,  12,  18,  24,  30,  36,  42,  48,  54,  60],\n",
       "       [  7,  14,  21,  28,  35,  42,  49,  56,  63,  70],\n",
       "       [  8,  16,  24,  32,  40,  48,  56,  64,  72,  80],\n",
       "       [  9,  18,  27,  36,  45,  54,  63,  72,  81,  90],\n",
       "       [ 10,  20,  30,  40,  50,  60,  70,  80,  90, 100]])"
      ]
     },
     "execution_count": 93,
     "metadata": {},
     "output_type": "execute_result"
    }
   ],
   "source": [
    "np.arange(1, 11).reshape((10, 1)) * np.arange(1, 11)"
   ]
  },
  {
   "cell_type": "code",
   "execution_count": null,
   "id": "5c9a02a0",
   "metadata": {},
   "outputs": [],
   "source": [
    "# [[1,2,3],\n",
    "#  [1,2,3],\n",
    "#  [1,2,3]]\n",
    "\n",
    "# *\n",
    "\n",
    "# [[1, 1, 1],\n",
    "#  [2, 2, 2],\n",
    "#  [3, 3, 3]]\n",
    "\n",
    "# =\n",
    "\n",
    "# [[1,2,3],\n",
    "#  [2,4,6],\n",
    "#  [3,6,9]]"
   ]
  }
 ],
 "metadata": {
  "kernelspec": {
   "display_name": "Python 3 (ipykernel)",
   "language": "python",
   "name": "python3"
  },
  "language_info": {
   "codemirror_mode": {
    "name": "ipython",
    "version": 3
   },
   "file_extension": ".py",
   "mimetype": "text/x-python",
   "name": "python",
   "nbconvert_exporter": "python",
   "pygments_lexer": "ipython3",
   "version": "3.9.7"
  }
 },
 "nbformat": 4,
 "nbformat_minor": 5
}
